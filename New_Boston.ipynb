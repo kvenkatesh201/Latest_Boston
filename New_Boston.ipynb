{
 "cells": [
  {
   "cell_type": "code",
   "execution_count": 2,
   "metadata": {
    "collapsed": true
   },
   "outputs": [],
   "source": [
    "from sklearn import datasets\n",
    "import pandas as pd\n",
    "from sklearn.preprocessing import StandardScaler\n",
    "from sklearn.cross_validation import train_test_split\n",
    "from sklearn.metrics import mean_squared_error\n",
    "from sklearn.metrics import r2_score\n",
    "from sklearn.linear_model import LinearRegression"
   ]
  },
  {
   "cell_type": "code",
   "execution_count": 3,
   "metadata": {
    "collapsed": false
   },
   "outputs": [
    {
     "name": "stdout",
     "output_type": "stream",
     "text": [
      "Boston House Prices dataset\n",
      "\n",
      "Notes\n",
      "------\n",
      "Data Set Characteristics:  \n",
      "\n",
      "    :Number of Instances: 506 \n",
      "\n",
      "    :Number of Attributes: 13 numeric/categorical predictive\n",
      "    \n",
      "    :Median Value (attribute 14) is usually the target\n",
      "\n",
      "    :Attribute Information (in order):\n",
      "        - CRIM     per capita crime rate by town\n",
      "        - ZN       proportion of residential land zoned for lots over 25,000 sq.ft.\n",
      "        - INDUS    proportion of non-retail business acres per town\n",
      "        - CHAS     Charles River dummy variable (= 1 if tract bounds river; 0 otherwise)\n",
      "        - NOX      nitric oxides concentration (parts per 10 million)\n",
      "        - RM       average number of rooms per dwelling\n",
      "        - AGE      proportion of owner-occupied units built prior to 1940\n",
      "        - DIS      weighted distances to five Boston employment centres\n",
      "        - RAD      index of accessibility to radial highways\n",
      "        - TAX      full-value property-tax rate per $10,000\n",
      "        - PTRATIO  pupil-teacher ratio by town\n",
      "        - B        1000(Bk - 0.63)^2 where Bk is the proportion of blacks by town\n",
      "        - LSTAT    % lower status of the population\n",
      "        - MEDV     Median value of owner-occupied homes in $1000's\n",
      "\n",
      "    :Missing Attribute Values: None\n",
      "\n",
      "    :Creator: Harrison, D. and Rubinfeld, D.L.\n",
      "\n",
      "This is a copy of UCI ML housing dataset.\n",
      "http://archive.ics.uci.edu/ml/datasets/Housing\n",
      "\n",
      "\n",
      "This dataset was taken from the StatLib library which is maintained at Carnegie Mellon University.\n",
      "\n",
      "The Boston house-price data of Harrison, D. and Rubinfeld, D.L. 'Hedonic\n",
      "prices and the demand for clean air', J. Environ. Economics & Management,\n",
      "vol.5, 81-102, 1978.   Used in Belsley, Kuh & Welsch, 'Regression diagnostics\n",
      "...', Wiley, 1980.   N.B. Various transformations are used in the table on\n",
      "pages 244-261 of the latter.\n",
      "\n",
      "The Boston house-price data has been used in many machine learning papers that address regression\n",
      "problems.   \n",
      "     \n",
      "**References**\n",
      "\n",
      "   - Belsley, Kuh & Welsch, 'Regression diagnostics: Identifying Influential Data and Sources of Collinearity', Wiley, 1980. 244-261.\n",
      "   - Quinlan,R. (1993). Combining Instance-Based and Model-Based Learning. In Proceedings on the Tenth International Conference of Machine Learning, 236-243, University of Massachusetts, Amherst. Morgan Kaufmann.\n",
      "   - many more! (see http://archive.ics.uci.edu/ml/datasets/Housing)\n",
      "\n"
     ]
    }
   ],
   "source": [
    "bean = datasets.load_boston()\n",
    "print bean.DESCR"
   ]
  },
  {
   "cell_type": "code",
   "execution_count": 4,
   "metadata": {
    "collapsed": true
   },
   "outputs": [],
   "source": [
    "def load_boston():\n",
    "    scaler = StandardScaler()\n",
    "    boston = datasets.load_boston()\n",
    "    X=boston.data\n",
    "    y=boston.target\n",
    "    X = scaler.fit_transform(X)\n",
    "    return train_test_split(X,y)"
   ]
  },
  {
   "cell_type": "code",
   "execution_count": 5,
   "metadata": {
    "collapsed": true
   },
   "outputs": [],
   "source": [
    "X_train, X_test, y_train, y_test = load_boston()"
   ]
  },
  {
   "cell_type": "code",
   "execution_count": 55,
   "metadata": {
    "collapsed": false
   },
   "outputs": [
    {
     "data": {
      "text/plain": [
       "(379, 13)"
      ]
     },
     "execution_count": 55,
     "metadata": {},
     "output_type": "execute_result"
    }
   ],
   "source": [
    "X_train.shape"
   ]
  },
  {
   "cell_type": "code",
   "execution_count": 44,
   "metadata": {
    "collapsed": false
   },
   "outputs": [
    {
     "data": {
      "text/plain": [
       "LinearRegression(copy_X=True, fit_intercept=True, n_jobs=1, normalize=False)"
      ]
     },
     "execution_count": 44,
     "metadata": {},
     "output_type": "execute_result"
    }
   ],
   "source": [
    "clfB = LinearRegression()\n",
    "clfB.fit(X_train, y_train)"
   ]
  },
  {
   "cell_type": "code",
   "execution_count": 45,
   "metadata": {
    "collapsed": false
   },
   "outputs": [
    {
     "data": {
      "text/plain": [
       "[(33.299999999999997, 36.824702019157357),\n",
       " (8.0999999999999996, 4.4243029455710214),\n",
       " (21.699999999999999, 20.951099652274387),\n",
       " (20.199999999999999, 16.437156161423744),\n",
       " (22.899999999999999, 25.58030954484984),\n",
       " (19.199999999999999, 24.226180875733469),\n",
       " (22.800000000000001, 28.830619082143059),\n",
       " (11.9, 22.591994684513129),\n",
       " (43.5, 39.275700904425221),\n",
       " (50.0, 41.289265762530064),\n",
       " (50.0, 35.30452696698179),\n",
       " (19.399999999999999, 19.912107462537364),\n",
       " (8.4000000000000004, 14.305397755846625),\n",
       " (13.1, 20.269671565877054),\n",
       " (30.100000000000001, 35.199951596372586),\n",
       " (24.5, 21.334582430611032),\n",
       " (10.5, 6.1732860350912375),\n",
       " (18.0, 19.0249033218651),\n",
       " (27.899999999999999, 20.829040475193111),\n",
       " (22.0, 26.070635566238),\n",
       " (24.300000000000001, 20.127685836274825),\n",
       " (20.0, 22.680212434625592),\n",
       " (23.0, 24.165513342565418),\n",
       " (20.600000000000001, 17.026047407329735),\n",
       " (10.4, 6.9849429586723151),\n",
       " (31.600000000000001, 34.086888797138911),\n",
       " (21.199999999999999, 21.598869802687155),\n",
       " (16.199999999999999, 20.879551976560041),\n",
       " (19.5, 18.939826904644157),\n",
       " (19.300000000000001, 22.406209360593042),\n",
       " (33.399999999999999, 35.761548886816428),\n",
       " (10.199999999999999, 17.346125830398556),\n",
       " (33.100000000000001, 33.167120871103457),\n",
       " (18.5, 19.12876985956261),\n",
       " (23.800000000000001, 24.887744964689645),\n",
       " (22.0, 27.388428368223114),\n",
       " (23.300000000000001, 26.723037066156582),\n",
       " (17.600000000000001, 16.844288868269913),\n",
       " (20.100000000000001, 21.755828065428645),\n",
       " (20.600000000000001, 21.990308437461579),\n",
       " (46.700000000000003, 35.001999234035353),\n",
       " (22.899999999999999, 23.234487021141256),\n",
       " (20.300000000000001, 23.066219383300304),\n",
       " (23.199999999999999, 27.818872473335663),\n",
       " (23.399999999999999, 24.309155531067752),\n",
       " (24.199999999999999, 25.343043979032423),\n",
       " (22.600000000000001, 27.076660119828972),\n",
       " (23.100000000000001, 25.924329856105192),\n",
       " (7.0, -4.7326544088604763),\n",
       " (24.800000000000001, 27.385888213199159),\n",
       " (12.699999999999999, 18.088318493638667),\n",
       " (50.0, 35.001021393482816),\n",
       " (19.300000000000001, 20.54543265097465),\n",
       " (28.100000000000001, 25.280850083426998),\n",
       " (19.5, 17.462414202182153),\n",
       " (16.5, 21.664079684738528),\n",
       " (30.100000000000001, 25.649359646322942),\n",
       " (10.5, 12.179167201278027),\n",
       " (16.100000000000001, 22.474737791918564),\n",
       " (14.300000000000001, 17.342302820636572),\n",
       " (36.5, 35.767840203718002),\n",
       " (23.899999999999999, 26.199701277709043),\n",
       " (19.800000000000001, 22.832346005628146),\n",
       " (20.699999999999999, 21.111339361759807),\n",
       " (17.800000000000001, 9.2293853630268501),\n",
       " (24.399999999999999, 24.216005035693591),\n",
       " (22.699999999999999, 21.923033479486342),\n",
       " (33.100000000000001, 35.06071267689088),\n",
       " (23.300000000000001, 25.229217746808299),\n",
       " (19.899999999999999, 19.342348172491665),\n",
       " (13.4, 13.903281752744714),\n",
       " (13.1, 15.239583463104521),\n",
       " (22.0, 21.470761236318598),\n",
       " (18.199999999999999, 19.278403428310629),\n",
       " (14.9, 17.618663736455176),\n",
       " (22.199999999999999, 24.446538400754115),\n",
       " (17.399999999999999, 16.152576443313713),\n",
       " (13.4, 13.037770607029179),\n",
       " (21.699999999999999, 22.070245434929518),\n",
       " (32.200000000000003, 32.179685784896328),\n",
       " (23.0, 20.292345282044121),\n",
       " (19.399999999999999, 23.837486704328121),\n",
       " (21.699999999999999, 22.419940298214172),\n",
       " (20.300000000000001, 22.969038842190439),\n",
       " (24.399999999999999, 23.738417303935172),\n",
       " (29.800000000000001, 33.308690784181714),\n",
       " (7.4000000000000004, 5.3085823788039193),\n",
       " (23.600000000000001, 30.680478372452807),\n",
       " (22.899999999999999, 29.738923271548181),\n",
       " (20.300000000000001, 19.898065511636648),\n",
       " (21.199999999999999, 22.611149895245326),\n",
       " (19.0, 21.109266495280572),\n",
       " (10.199999999999999, 6.5942928343458433),\n",
       " (13.800000000000001, 20.377101136259384),\n",
       " (23.199999999999999, 25.83676740638937),\n",
       " (43.100000000000001, 36.920327363761054),\n",
       " (14.1, 16.0738553702483),\n",
       " (24.100000000000001, 30.53917341687476),\n",
       " (15.1, 17.584817632569042),\n",
       " (13.199999999999999, 8.3969185658922836),\n",
       " (19.899999999999999, 20.673832233634503),\n",
       " (23.5, 31.541247348928611),\n",
       " (21.399999999999999, 24.442979557589076),\n",
       " (15.0, 18.731202639163165),\n",
       " (11.699999999999999, 15.898167586722101),\n",
       " (16.399999999999999, 18.980707475709821),\n",
       " (10.199999999999999, 16.607498107405398),\n",
       " (28.5, 34.390163104139319),\n",
       " (29.0, 32.436666295196304),\n",
       " (23.699999999999999, 27.724750705444208),\n",
       " (26.699999999999999, 33.058967451404705),\n",
       " (20.800000000000001, 18.887490588102303),\n",
       " (50.0, 42.514359895111511),\n",
       " (19.399999999999999, 26.826848993803154),\n",
       " (22.399999999999999, 23.342699589350012),\n",
       " (18.800000000000001, 21.229471191225535),\n",
       " (18.800000000000001, 21.073532721961154),\n",
       " (22.399999999999999, 22.738643845367562),\n",
       " (14.0, 13.449522731023547),\n",
       " (24.100000000000001, 20.683627204676597),\n",
       " (15.199999999999999, 19.230739539579766),\n",
       " (48.299999999999997, 36.616505778821704),\n",
       " (25.0, 26.285953629002506),\n",
       " (11.9, 8.9600334987125052),\n",
       " (36.200000000000003, 27.401374903498741),\n",
       " (21.699999999999999, 22.330184572949097),\n",
       " (14.1, 19.125941586932338)]"
      ]
     },
     "execution_count": 45,
     "metadata": {},
     "output_type": "execute_result"
    }
   ],
   "source": [
    "zip (y_test, clfB.predict(X_test))"
   ]
  },
  {
   "cell_type": "code",
   "execution_count": 40,
   "metadata": {
    "collapsed": false
   },
   "outputs": [
    {
     "data": {
      "text/plain": [
       "0.74004101726888227"
      ]
     },
     "execution_count": 40,
     "metadata": {},
     "output_type": "execute_result"
    }
   ],
   "source": [
    "r2_score(y_train,lfb.predict(X_train))"
   ]
  },
  {
   "cell_type": "code",
   "execution_count": 46,
   "metadata": {
    "collapsed": false
   },
   "outputs": [
    {
     "data": {
      "text/plain": [
       "22.287212605241795"
      ]
     },
     "execution_count": 46,
     "metadata": {},
     "output_type": "execute_result"
    }
   ],
   "source": [
    "mean_squared_error(y_train,clfB.predict(X_train))"
   ]
  },
  {
   "cell_type": "code",
   "execution_count": 47,
   "metadata": {
    "collapsed": false
   },
   "outputs": [
    {
     "data": {
      "text/plain": [
       "Ridge(alpha=0.1, copy_X=True, fit_intercept=True, max_iter=None,\n",
       "   normalize=False, solver='auto', tol=0.001)"
      ]
     },
     "execution_count": 47,
     "metadata": {},
     "output_type": "execute_result"
    }
   ],
   "source": [
    "from sklearn import linear_model\n",
    "linreg = linear_model.Ridge(alpha=0.1)\n",
    "linreg.fit(X_train, y_train)"
   ]
  },
  {
   "cell_type": "code",
   "execution_count": 50,
   "metadata": {
    "collapsed": false
   },
   "outputs": [
    {
     "data": {
      "text/plain": [
       "0.72996020004241957"
      ]
     },
     "execution_count": 50,
     "metadata": {},
     "output_type": "execute_result"
    }
   ],
   "source": [
    "r2_score(y_test,clfB.predict(X_test))"
   ]
  },
  {
   "cell_type": "code",
   "execution_count": 51,
   "metadata": {
    "collapsed": false
   },
   "outputs": [
    {
     "data": {
      "text/plain": [
       "21.680335450694134"
      ]
     },
     "execution_count": 51,
     "metadata": {},
     "output_type": "execute_result"
    }
   ],
   "source": [
    "mean_squared_error(y_test,clfB.predict(X_test))"
   ]
  },
  {
   "cell_type": "code",
   "execution_count": 34,
   "metadata": {
    "collapsed": false
   },
   "outputs": [
    {
     "data": {
      "text/plain": [
       "Ridge(alpha=0.5, copy_X=True, fit_intercept=True, max_iter=None,\n",
       "   normalize=False, solver='auto', tol=0.001)"
      ]
     },
     "execution_count": 34,
     "metadata": {},
     "output_type": "execute_result"
    }
   ],
   "source": [
    "from sklearn import linear_model\n",
    "linreg = linear_model.Ridge(alpha=0.5)\n",
    "linreg.fit(X_train, y_train)"
   ]
  },
  {
   "cell_type": "code",
   "execution_count": 53,
   "metadata": {
    "collapsed": false
   },
   "outputs": [
    {
     "data": {
      "text/plain": [
       "0.72996020004241957"
      ]
     },
     "execution_count": 53,
     "metadata": {},
     "output_type": "execute_result"
    }
   ],
   "source": [
    "r2_score(y_test,clfB.predict(X_test))"
   ]
  },
  {
   "cell_type": "code",
   "execution_count": 52,
   "metadata": {
    "collapsed": false
   },
   "outputs": [
    {
     "data": {
      "text/plain": [
       "21.680335450694134"
      ]
     },
     "execution_count": 52,
     "metadata": {},
     "output_type": "execute_result"
    }
   ],
   "source": [
    "mean_squared_error(y_test,clfB.predict(X_test))"
   ]
  },
  {
   "cell_type": "code",
   "execution_count": null,
   "metadata": {
    "collapsed": true
   },
   "outputs": [],
   "source": []
  }
 ],
 "metadata": {
  "kernelspec": {
   "display_name": "Python 2",
   "language": "python",
   "name": "python2"
  },
  "language_info": {
   "codemirror_mode": {
    "name": "ipython",
    "version": 2
   },
   "file_extension": ".py",
   "mimetype": "text/x-python",
   "name": "python",
   "nbconvert_exporter": "python",
   "pygments_lexer": "ipython2",
   "version": "2.7.10"
  }
 },
 "nbformat": 4,
 "nbformat_minor": 0
}
